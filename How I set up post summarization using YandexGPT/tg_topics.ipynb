{
 "cells": [
  {
   "cell_type": "markdown",
   "id": "4df2c9bd",
   "metadata": {},
   "source": [
    "## Libraries"
   ]
  },
  {
   "cell_type": "code",
   "execution_count": 203,
   "id": "9d80b127",
   "metadata": {},
   "outputs": [],
   "source": [
    "import subprocess\n",
    "import json\n",
    "import pandas as pd\n",
    "import re\n",
    "import datetime as dt\n",
    "\n",
    "import clickhouse_connect\n",
    "\n",
    "import time\n",
    "from __future__ import annotations\n",
    "from yandex_cloud_ml_sdk import YCloudML"
   ]
  },
  {
   "cell_type": "markdown",
   "id": "b7a57ae2",
   "metadata": {},
   "source": [
    "## TDL export"
   ]
  },
  {
   "cell_type": "code",
   "execution_count": 204,
   "id": "ca80abbd",
   "metadata": {},
   "outputs": [],
   "source": [
    "def run_tdl_export():\n",
    "    command = [\n",
    "        \"tdl\",\n",
    "        \"chat\",\n",
    "        \"export\",\n",
    "        \"-n\",\n",
    "        \"quickstart\",\n",
    "        \"-c\",\n",
    "        \"<YOUR TELEGRAM CHANNEL ID>\", \n",
    "        \"--all\",\n",
    "        \"--with-content\",\n",
    "        \"-o\",\n",
    "        \"C:/db/tg.json\"\n",
    "    ]\n",
    "\n",
    "    subprocess.run(command)"
   ]
  },
  {
   "cell_type": "code",
   "execution_count": 205,
   "id": "b1135027",
   "metadata": {},
   "outputs": [],
   "source": [
    "if __name__ == \"__main__\":\n",
    "    run_tdl_export()"
   ]
  },
  {
   "cell_type": "code",
   "execution_count": 206,
   "id": "7e9a038e",
   "metadata": {},
   "outputs": [],
   "source": [
    "with open('C:\\\\db\\\\tg.json', 'r', encoding='utf-8') as f:\n",
    "    data = json.load(f)"
   ]
  },
  {
   "cell_type": "markdown",
   "id": "14459ec9",
   "metadata": {},
   "source": [
    "## Read current table from ClickHouse"
   ]
  },
  {
   "cell_type": "code",
   "execution_count": 207,
   "id": "298fec97",
   "metadata": {},
   "outputs": [],
   "source": [
    "client = clickhouse_connect.get_client(\n",
    "    host='<YOUR HOST>',        \n",
    "    port='<YOUR PORT>',            \n",
    "    database='<YOUR DATABASE>',  \n",
    "    username='<YOUR USERNAME>', \n",
    "    password='<YOUR PASSWORD>',  \n",
    "    client_cert_key='<YOUR CERTIFICATE ROOT>' \n",
    ")"
   ]
  },
  {
   "cell_type": "code",
   "execution_count": 208,
   "id": "7050bdfc",
   "metadata": {},
   "outputs": [],
   "source": [
    "read_query = \"SELECT * FROM tg_topics\"\n",
    "current_table = client.query_df(read_query)"
   ]
  },
  {
   "cell_type": "code",
   "execution_count": 209,
   "id": "ba058ae4",
   "metadata": {},
   "outputs": [],
   "source": [
    "existing_ids = set(current_table['id'].tolist())"
   ]
  },
  {
   "cell_type": "markdown",
   "id": "0b99778b",
   "metadata": {},
   "source": [
    "## Data preparation"
   ]
  },
  {
   "cell_type": "code",
   "execution_count": 175,
   "id": "26f9082a",
   "metadata": {},
   "outputs": [],
   "source": [
    "# Functions"
   ]
  },
  {
   "cell_type": "code",
   "execution_count": 210,
   "id": "43995427",
   "metadata": {},
   "outputs": [],
   "source": [
    "# Function to convert UNIX timestamp to a formatted string\n",
    "def convert_unix_to_date(timestamp):\n",
    "    dt_object = dt.datetime.utcfromtimestamp(timestamp)\n",
    "    formatted_date = dt_object.strftime('%Y-%m-%d')\n",
    "    return formatted_date"
   ]
  },
  {
   "cell_type": "code",
   "execution_count": 211,
   "id": "02a28037",
   "metadata": {},
   "outputs": [],
   "source": [
    "# Getting hashtags into list\n",
    "pattern = re.compile(r'#(\\w+)')\n",
    "\n",
    "def find_hashtags(text):\n",
    "    return [hashtag.lower() for hashtag in pattern.findall(str(text))]"
   ]
  },
  {
   "cell_type": "code",
   "execution_count": 212,
   "id": "ab7ad75b",
   "metadata": {},
   "outputs": [],
   "source": [
    "# Getting hashtags into string\n",
    "def find_hashtags_string(text):\n",
    "    return ', '.join([hashtag.lower() for hashtag in pattern.findall(str(text))])"
   ]
  },
  {
   "cell_type": "code",
   "execution_count": 213,
   "id": "67565c9b",
   "metadata": {},
   "outputs": [],
   "source": [
    "# Classify some series\n",
    "def text_category(text):   \n",
    "    phrases_categories = {\n",
    "        'регрессиада': 'Регрессиада',\n",
    "        'вы возглавляете hr-аналитику. что теперь?': 'Вы возглавляете HR-аналитику. Что теперь?',\n",
    "        'анализ hr вакансий': 'Анализ HR вакансий',\n",
    "        'hr дашборд в excel': 'HR дашборд в Excel',\n",
    "        'байесовский фреймворк и hr задачи': 'Байесовский фреймворк и HR задачи',\n",
    "        'нормальное распределение': 'Обзорная статистическая серия',\n",
    "        'логарифмирование и преобразование переменных': 'Обзорная статистическая серия',\n",
    "        'доверительные интервалы': 'Обзорная статистическая серия',\n",
    "        'корреляция. теория': 'Обзорная статистическая серия',\n",
    "        'корреляция. практика': 'Обзорная статистическая серия',\n",
    "        'статистическая значимость и размер эффекта. теория': 'Обзорная статистическая серия',\n",
    "        'статистическая значимость и размер эффекта. практика': 'Обзорная статистическая серия',\n",
    "        'как перестать бояться и полюбить r': 'Как перестать бояться и полюбить R'\n",
    "    }\n",
    "    text_lower = text.lower()\n",
    "    \n",
    "    for phrase, category in phrases_categories.items():\n",
    "        if phrase in text_lower:\n",
    "            return category\n",
    "        \n",
    "    return None "
   ]
  },
  {
   "cell_type": "code",
   "execution_count": 214,
   "id": "cc8d3c59",
   "metadata": {},
   "outputs": [],
   "source": [
    "# Function to get summary from YandexGPT\n",
    "sdk = YCloudML(\n",
    "    folder_id=\"<YOUR FOLDER ID>\", \n",
    "    auth=\"<YOUR TOKEN>\"\n",
    ")\n",
    "model = sdk.models.completions(\"yandexgpt\")\n",
    "model = model.configure(temperature=0.5)\n",
    "\n",
    "# Generate summaries for all rows with a delay\n",
    "def get_summary(text, delay=1):\n",
    "    \n",
    "    if not text:\n",
    "        return \"\"\n",
    "    try:\n",
    "        time.sleep(delay)\n",
    "        messages = [\n",
    "            {\"role\": \"system\", \"text\": \"Сделай очень краткий пересказ текста. Длина не более 200 знаков.\"},\n",
    "            {\"role\": \"user\", \"text\": text},\n",
    "        ]\n",
    "        result = model.run(messages)\n",
    "        for alternative in result:\n",
    "            return alternative.text.strip()\n",
    "    except Exception as e:\n",
    "        print(f\"Error processing text: {e}\")\n",
    "        return \"\"\n",
    "\n",
    "    \n",
    "# Generate summaries only for new rows\n",
    "def conditional_summary(row, delay=1):\n",
    "    if row['is_new']:\n",
    "        time.sleep(delay)\n",
    "        return get_summary(row['text'], delay=0)\n",
    "    else:\n",
    "        return current_table.loc[current_table['id'] == row['id'], 'summary'].values[0]"
   ]
  },
  {
   "cell_type": "code",
   "execution_count": 215,
   "id": "237e3411",
   "metadata": {},
   "outputs": [],
   "source": [
    "# Write data into pandas dataframe\n",
    "df = pd.json_normalize(data['messages'])\n",
    "df['is_new'] = ~df['id'].isin(existing_ids)"
   ]
  },
  {
   "cell_type": "code",
   "execution_count": 187,
   "id": "2a848900",
   "metadata": {},
   "outputs": [],
   "source": [
    "# Add columns\n",
    "df['date'] = df['date'].apply(convert_unix_to_date)\n",
    "df['title'] = df['text'].apply(lambda x: str(x).split('\\n')[0])\n",
    "df['link'] = 'https://t.me/h0h1_hr_analytics/' + df['id'].astype(str)\n",
    "df['hashtags'] = df['text'].apply(find_hashtags)\n",
    "df['hashtags_string'] = df['text'].apply(find_hashtags_string)\n",
    "df['summary'] = df.apply(conditional_summary, axis=1)\n",
    "# df['summary'] = df['text'].apply(get_summary)\n",
    "df['refreshed_date'] =  dt.datetime.now().strftime('%Y-%m-%d %H:%M:%S')\n",
    "df['series'] = df['title'].apply(text_category)\n",
    "\n",
    "# Remove columns\n",
    "df = df.drop(columns=['is_new'])"
   ]
  },
  {
   "cell_type": "markdown",
   "id": "61613081",
   "metadata": {},
   "source": [
    "## Writing into data base"
   ]
  },
  {
   "cell_type": "code",
   "execution_count": 188,
   "id": "2bd4e6e3",
   "metadata": {},
   "outputs": [
    {
     "data": {
      "text/plain": [
       "<clickhouse_connect.driver.summary.QuerySummary at 0x1f3d1494040>"
      ]
     },
     "execution_count": 188,
     "metadata": {},
     "output_type": "execute_result"
    }
   ],
   "source": [
    "create_table_query = \"\"\"\n",
    "    CREATE TABLE IF NOT EXISTS tg_topics (\n",
    "        id Int32,\n",
    "        type String,\n",
    "        file String,\n",
    "        date Date,\n",
    "        text String,\n",
    "        title String,\n",
    "        link String,\n",
    "        hashtags Array(String),\n",
    "        hashtags_string String,\n",
    "        summary String,\n",
    "        refreshed_date DateTime,\n",
    "        series String\n",
    "    ) ENGINE = MergeTree()\n",
    "    ORDER BY id\n",
    "\"\"\"\n",
    "\n",
    "client.command(create_table_query)"
   ]
  },
  {
   "cell_type": "code",
   "execution_count": 189,
   "id": "efd93a5f",
   "metadata": {},
   "outputs": [
    {
     "data": {
      "text/plain": [
       "<clickhouse_connect.driver.summary.QuerySummary at 0x1f3d1495510>"
      ]
     },
     "execution_count": 189,
     "metadata": {},
     "output_type": "execute_result"
    }
   ],
   "source": [
    "truncate_query = \"TRUNCATE TABLE tg_topics\"\n",
    "client.command(truncate_query)"
   ]
  },
  {
   "cell_type": "code",
   "execution_count": 190,
   "id": "458f7879",
   "metadata": {},
   "outputs": [],
   "source": [
    "csv_data = df.to_csv(index=False)"
   ]
  },
  {
   "cell_type": "code",
   "execution_count": 191,
   "id": "e94c69a6",
   "metadata": {},
   "outputs": [
    {
     "data": {
      "text/plain": [
       "<clickhouse_connect.driver.summary.QuerySummary at 0x1f3cfcbaaa0>"
      ]
     },
     "execution_count": 191,
     "metadata": {},
     "output_type": "execute_result"
    }
   ],
   "source": [
    "insert_query = f\"INSERT INTO tg_topics FORMAT CSV {csv_data}\"\n",
    "client.command(insert_query)"
   ]
  }
 ],
 "metadata": {
  "kernelspec": {
   "display_name": "Python [conda env:base] *",
   "language": "python",
   "name": "conda-base-py"
  },
  "language_info": {
   "codemirror_mode": {
    "name": "ipython",
    "version": 3
   },
   "file_extension": ".py",
   "mimetype": "text/x-python",
   "name": "python",
   "nbconvert_exporter": "python",
   "pygments_lexer": "ipython3",
   "version": "3.12.7"
  }
 },
 "nbformat": 4,
 "nbformat_minor": 5
}
